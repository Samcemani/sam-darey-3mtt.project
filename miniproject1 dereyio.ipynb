{
 "cells": [
  {
   "cell_type": "code",
   "execution_count": 1,
   "id": "89ce6166-8979-44bc-bb54-9ee0a71a8224",
   "metadata": {},
   "outputs": [
    {
     "name": "stdin",
     "output_type": "stream",
     "text": [
      "What is the capital of France?  Paris\n"
     ]
    },
    {
     "name": "stdout",
     "output_type": "stream",
     "text": [
      "Correct!\n"
     ]
    },
    {
     "name": "stdin",
     "output_type": "stream",
     "text": [
      "Which planet is known as the Red Planet?  Mars\n"
     ]
    },
    {
     "name": "stdout",
     "output_type": "stream",
     "text": [
      "Correct!\n"
     ]
    },
    {
     "name": "stdin",
     "output_type": "stream",
     "text": [
      "What is 5 + 7?  12\n"
     ]
    },
    {
     "name": "stdout",
     "output_type": "stream",
     "text": [
      "Correct!\n"
     ]
    },
    {
     "name": "stdin",
     "output_type": "stream",
     "text": [
      "Who wrote 'Hamlet'?  Shakespeare\n"
     ]
    },
    {
     "name": "stdout",
     "output_type": "stream",
     "text": [
      "Correct!\n"
     ]
    },
    {
     "name": "stdin",
     "output_type": "stream",
     "text": [
      "What is the largest ocean on Earth?  Pacific\n"
     ]
    },
    {
     "name": "stdout",
     "output_type": "stream",
     "text": [
      "Correct!\n",
      "Quiz completed! Your score: 5 out of 5\n",
      "Congratulations! You got all the questions correct.\n"
     ]
    }
   ],
   "source": [
    "quiz_questions = {\n",
    "    \"What is the capital of France?\": \"Paris\",\n",
    "    \"Which planet is known as the Red Planet?\": \"Mars\",\n",
    "    \"What is 5 + 7?\": \"12\",\n",
    "    \"Who wrote 'Hamlet'?\": \"Shakespeare\",\n",
    "    \"What is the largest ocean on Earth?\": \"Pacific\"\n",
    "}\n",
    "\n",
    "score = 0\n",
    "\n",
    "for question, correct_answer in quiz_questions.items():\n",
    "    user_answer = input(question + \" \")\n",
    "\n",
    "    if user_answer.lower() == correct_answer.lower():\n",
    "        print(\"Correct!\")\n",
    "        score += 1\n",
    "    else:\n",
    "        print(\"Incorrect. The correct answer is:\", correct_answer)\n",
    "\n",
    "print(\"Quiz completed! Your score:\", score, \"out of\", len(quiz_questions))\n",
    "\n",
    "if score == len(quiz_questions):\n",
    "    print(\"Congratulations! You got all the questions correct.\")\n",
    "elif score >= len(quiz_questions) // 2:\n",
    "    print(\"Good job! You got\", score, \"out of\", len(quiz_questions), \"questions correct.\")\n",
    "    print(\"You can do better!\")\n",
    "else:\n",
    "    print(\"Keep practicing! You got\", score, \"out of\", len(quiz_questions), \"questions correct.\")"
   ]
  },
  {
   "cell_type": "code",
   "execution_count": 3,
   "id": "2da20478-6165-436f-80b0-404a6532183a",
   "metadata": {},
   "outputs": [
    {
     "name": "stdin",
     "output_type": "stream",
     "text": [
      "Enter the first number:  5\n",
      "Enter the second number:  10\n"
     ]
    },
    {
     "name": "stdout",
     "output_type": "stream",
     "text": [
      "\n",
      "Before swapping: num1 = 5, num2 = 10\n",
      "After swapping: num1 = 10, num2 = 5\n"
     ]
    }
   ],
   "source": [
    "num1 = input(\"Enter the first number: \")\n",
    "num2 = input(\"Enter the second number: \")\n",
    "\n",
    "print(f\"\\nBefore swapping: num1 = {num1}, num2 = {num2}\")\n",
    "\n",
    "num1, num2 = num2, num1\n",
    "\n",
    "print(f\"After swapping: num1 = {num1}, num2 = {num2}\")"
   ]
  },
  {
   "cell_type": "code",
   "execution_count": 4,
   "id": "8261e056-2f89-40d2-b78d-f1773a7fd7d5",
   "metadata": {},
   "outputs": [],
   "source": [
    "def is_prime(n):\n",
    "    if n < 2:\n",
    "        return False\n",
    "    for i in range(2, int(n**0.5) + 1):\n",
    "        if n % i == 0:\n",
    "            return False\n",
    "    return True"
   ]
  },
  {
   "cell_type": "code",
   "execution_count": 5,
   "id": "68afa9e4-3885-4218-a6f5-493fb088aee1",
   "metadata": {},
   "outputs": [],
   "source": [
    "def is_armstrong(n):\n",
    "    num_str = str(n)\n",
    "    num_digits = len(num_str)\n",
    "    sum_of_powers = sum(int(digit) ** num_digits for digit in num_str)\n",
    "    return sum_of_powers == n"
   ]
  },
  {
   "cell_type": "code",
   "execution_count": 6,
   "id": "b36772bb-d864-464a-a07d-7be28d16007b",
   "metadata": {},
   "outputs": [],
   "source": [
    "def is_palindrome(n):\n",
    "    return str(n) == str(n)[::-1]"
   ]
  },
  {
   "cell_type": "code",
   "execution_count": 7,
   "id": "9565a800-325b-43f4-a5f8-3043749ef8bc",
   "metadata": {},
   "outputs": [
    {
     "name": "stdin",
     "output_type": "stream",
     "text": [
      "Enter a number:  5\n"
     ]
    },
    {
     "name": "stdout",
     "output_type": "stream",
     "text": [
      "\n",
      "Checking number: 5\n",
      "5 is a Prime number ✅\n",
      "5 is an Armstrong number ✅\n",
      "5 is a Palindrome ✅\n"
     ]
    }
   ],
   "source": [
    "num = int(input(\"Enter a number: \"))\n",
    "\n",
    "print (f\"\\nChecking number: {num}\")\n",
    "if is_prime(num):\n",
    "    print(f\"{num} is a Prime number ✅\")\n",
    "else:\n",
    "    print(f\"{num} is NOT a Prime number ❌\")\n",
    "\n",
    "if is_armstrong(num):\n",
    "    print(f\"{num} is an Armstrong number ✅\")\n",
    "else:\n",
    "    print(f\"{num} is NOT an Armstrong number ❌\")\n",
    "\n",
    "if is_palindrome(num):\n",
    "    print(f\"{num} is a Palindrome ✅\")\n",
    "else:\n",
    "    print(f\"{num} is NOT a Palindrome ❌\")"
   ]
  },
  {
   "cell_type": "code",
   "execution_count": null,
   "id": "5372b028-0020-43f8-a196-fc4aefccb504",
   "metadata": {},
   "outputs": [],
   "source": []
  }
 ],
 "metadata": {
  "kernelspec": {
   "display_name": "Python 3 (ipykernel)",
   "language": "python",
   "name": "python3"
  },
  "language_info": {
   "codemirror_mode": {
    "name": "ipython",
    "version": 3
   },
   "file_extension": ".py",
   "mimetype": "text/x-python",
   "name": "python",
   "nbconvert_exporter": "python",
   "pygments_lexer": "ipython3",
   "version": "3.12.4"
  }
 },
 "nbformat": 4,
 "nbformat_minor": 5
}
